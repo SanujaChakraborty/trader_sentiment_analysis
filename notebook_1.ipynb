{
  "cells": [
    {
      "cell_type": "code",
      "execution_count": 1,
      "metadata": {
        "id": "YyKAcwUMr0fk"
      },
      "outputs": [
        {
          "name": "stderr",
          "output_type": "stream",
          "text": [
            "WARNING: You are using pip version 22.0.4; however, version 25.2 is available.\n",
            "You should consider upgrading via the 'C:\\Python39\\python.exe -m pip install --upgrade pip' command.\n"
          ]
        }
      ],
      "source": [
        "# TITLE: Trader Behavior Insights notebook_1\n",
        "# Author: Sanuja Chakraborty\n",
        "!pip install --quiet gdown"
      ]
    },
    {
      "cell_type": "code",
      "execution_count": 2,
      "metadata": {
        "id": "4BEo7AcNtAed"
      },
      "outputs": [],
      "source": [
        "import os\n",
        "os.makedirs('csv_files', exist_ok=True)\n",
        "os.makedirs('outputs', exist_ok=True)"
      ]
    },
    {
      "cell_type": "code",
      "execution_count": 3,
      "metadata": {
        "colab": {
          "base_uri": "https://localhost:8080/"
        },
        "id": "EM2bvR2bwfWl",
        "outputId": "f8c790ee-03d4-482a-8baa-c85f4c8cca57"
      },
      "outputs": [
        {
          "name": "stderr",
          "output_type": "stream",
          "text": [
            "C:\\Python39\\lib\\site-packages\\gdown\\__main__.py:140: FutureWarning: Option `--id` was deprecated in version 4.3.1 and will be removed in 5.0. You don't need to pass it anymore to use a file ID.\n",
            "  warnings.warn(\n",
            "Downloading...\n",
            "From: https://drive.google.com/uc?id=1IAfLZwu6rJzyWKgBToqwSmmVYU6VbjVs\n",
            "To: c:\\ds_sanuja\\csv_files\\hyperliquid_historical.zip\n",
            "\n",
            "  0%|          | 0.00/47.5M [00:00<?, ?B/s]\n",
            "  1%|          | 524k/47.5M [00:00<00:11, 4.07MB/s]\n",
            "  3%|▎         | 1.57M/47.5M [00:00<00:06, 6.96MB/s]\n",
            "  6%|▌         | 2.62M/47.5M [00:00<00:06, 6.98MB/s]\n",
            "  9%|▉         | 4.19M/47.5M [00:00<00:04, 8.82MB/s]\n",
            " 11%|█         | 5.24M/47.5M [00:00<00:05, 8.37MB/s]\n",
            " 14%|█▍        | 6.82M/47.5M [00:00<00:04, 8.95MB/s]\n",
            " 18%|█▊        | 8.39M/47.5M [00:00<00:04, 9.40MB/s]\n",
            " 20%|█▉        | 9.44M/47.5M [00:01<00:04, 9.31MB/s]\n",
            " 22%|██▏       | 10.5M/47.5M [00:01<00:03, 9.36MB/s]\n",
            " 24%|██▍       | 11.5M/47.5M [00:01<00:03, 9.36MB/s]\n",
            " 26%|██▋       | 12.6M/47.5M [00:01<00:03, 9.32MB/s]\n",
            " 29%|██▊       | 13.6M/47.5M [00:01<00:03, 9.49MB/s]\n",
            " 31%|███       | 14.7M/47.5M [00:01<00:03, 9.38MB/s]\n",
            " 33%|███▎      | 15.7M/47.5M [00:01<00:03, 9.08MB/s]\n",
            " 35%|███▌      | 16.8M/47.5M [00:01<00:03, 9.16MB/s]\n",
            " 38%|███▊      | 17.8M/47.5M [00:01<00:03, 9.30MB/s]\n",
            " 40%|███▉      | 18.9M/47.5M [00:02<00:03, 9.30MB/s]\n",
            " 42%|████▏     | 19.9M/47.5M [00:02<00:03, 9.17MB/s]\n",
            " 44%|████▍     | 21.0M/47.5M [00:02<00:02, 9.04MB/s]\n",
            " 46%|████▋     | 22.0M/47.5M [00:02<00:02, 9.00MB/s]\n",
            " 49%|████▊     | 23.1M/47.5M [00:02<00:02, 8.85MB/s]\n",
            " 51%|█████     | 24.1M/47.5M [00:02<00:02, 8.02MB/s]\n",
            " 54%|█████▍    | 25.7M/47.5M [00:02<00:02, 8.76MB/s]\n",
            " 56%|█████▋    | 26.7M/47.5M [00:03<00:02, 8.90MB/s]\n",
            " 58%|█████▊    | 27.8M/47.5M [00:03<00:02, 8.40MB/s]\n",
            " 61%|██████    | 28.8M/47.5M [00:03<00:02, 8.64MB/s]\n",
            " 63%|██████▎   | 29.9M/47.5M [00:03<00:01, 8.94MB/s]\n",
            " 65%|██████▌   | 30.9M/47.5M [00:03<00:01, 8.99MB/s]\n",
            " 67%|██████▋   | 32.0M/47.5M [00:03<00:01, 9.04MB/s]\n",
            " 70%|██████▉   | 33.0M/47.5M [00:03<00:01, 9.14MB/s]\n",
            " 72%|███████▏  | 34.1M/47.5M [00:03<00:01, 9.11MB/s]\n",
            " 74%|███████▍  | 35.1M/47.5M [00:03<00:01, 9.04MB/s]\n",
            " 76%|███████▌  | 36.2M/47.5M [00:04<00:01, 9.13MB/s]\n",
            " 78%|███████▊  | 37.2M/47.5M [00:04<00:01, 9.01MB/s]\n",
            " 81%|████████  | 38.3M/47.5M [00:04<00:01, 9.10MB/s]\n",
            " 83%|████████▎ | 39.3M/47.5M [00:04<00:00, 8.76MB/s]\n",
            " 85%|████████▍ | 40.4M/47.5M [00:04<00:00, 9.04MB/s]\n",
            " 87%|████████▋ | 41.4M/47.5M [00:04<00:00, 9.10MB/s]\n",
            " 89%|████████▉ | 42.5M/47.5M [00:04<00:00, 9.02MB/s]\n",
            " 92%|█████████▏| 43.5M/47.5M [00:04<00:00, 9.00MB/s]\n",
            " 94%|█████████▍| 44.6M/47.5M [00:05<00:00, 8.78MB/s]\n",
            " 96%|█████████▌| 45.6M/47.5M [00:05<00:00, 8.95MB/s]\n",
            " 98%|█████████▊| 46.7M/47.5M [00:05<00:00, 7.00MB/s]\n",
            "100%|██████████| 47.5M/47.5M [00:05<00:00, 8.73MB/s]\n",
            "C:\\Python39\\lib\\site-packages\\gdown\\__main__.py:140: FutureWarning: Option `--id` was deprecated in version 4.3.1 and will be removed in 5.0. You don't need to pass it anymore to use a file ID.\n",
            "  warnings.warn(\n",
            "Downloading...\n",
            "From: https://drive.google.com/uc?id=1PgQC0tO8XN-wqkNyghWc_-mnrYv_nhSf\n",
            "To: c:\\ds_sanuja\\csv_files\\fear_greed.zip\n",
            "\n",
            "  0%|          | 0.00/90.8k [00:00<?, ?B/s]\n",
            "100%|██████████| 90.8k/90.8k [00:00<00:00, 1.36MB/s]\n"
          ]
        }
      ],
      "source": [
        "# gdown by file id\n",
        "!gdown --id 1IAfLZwu6rJzyWKgBToqwSmmVYU6VbjVs -O csv_files/hyperliquid_historical.zip\n",
        "!gdown --id 1PgQC0tO8XN-wqkNyghWc_-mnrYv_nhSf -O csv_files/fear_greed.zip"
      ]
    },
    {
      "cell_type": "code",
      "execution_count": 4,
      "metadata": {
        "colab": {
          "base_uri": "https://localhost:8080/"
        },
        "id": "oOkAp72Jwikw",
        "outputId": "7e0e1517-642a-426d-ea67-fa1d3dbe7ae5"
      },
      "outputs": [
        {
          "data": {
            "text/plain": [
              "['daily_aggregates.csv', 'fear_greed.zip', 'hyperliquid_historical.zip']"
            ]
          },
          "execution_count": 4,
          "metadata": {},
          "output_type": "execute_result"
        }
      ],
      "source": [
        "# !unzip -o csv_files/hyperliquid_historical.zip -d csv_files/\n",
        "# !unzip -o csv_files/fear_greed.zip -d csv_files/\n",
        "import os\n",
        "from pathlib import Path\n",
        "import pandas as pd\n",
        "\n",
        "CSV_DIR = Path('csv_files')\n",
        "\n",
        "# List what got downloaded\n",
        "os.listdir(CSV_DIR)\n"
      ]
    },
    {
      "cell_type": "code",
      "execution_count": 5,
      "metadata": {
        "id": "ymJ4_f8xSCR_"
      },
      "outputs": [],
      "source": [
        "os.rename(CSV_DIR/'hyperliquid_historical.zip', CSV_DIR/'hyperliquid_historical.csv')\n",
        "os.rename(CSV_DIR/'fear_greed.zip', CSV_DIR/'fear_greed.csv')"
      ]
    },
    {
      "cell_type": "code",
      "execution_count": 6,
      "metadata": {
        "id": "ahEqyFJASvr_"
      },
      "outputs": [],
      "source": [
        "import pandas as pd\n",
        "import numpy as np\n",
        "import matplotlib.pyplot as plt\n",
        "import seaborn as sns\n",
        "import os\n",
        "from datetime import datetime, timedelta\n",
        "from pathlib import Path\n",
        "\n",
        "# display settings\n",
        "pd.set_option('display.max_columns', 200)\n",
        "pd.set_option('display.width', 200)\n",
        "\n",
        "CSV_DIR = Path('csv_files')\n",
        "OUT_DIR = Path('outputs')\n",
        "OUT_DIR.mkdir(exist_ok=True)\n"
      ]
    },
    {
      "cell_type": "code",
      "execution_count": 7,
      "metadata": {
        "colab": {
          "base_uri": "https://localhost:8080/"
        },
        "id": "Lm7mDGrLTN87",
        "outputId": "55ed1a71-da3c-46f9-e656-1f0cd3fcac93"
      },
      "outputs": [
        {
          "name": "stdout",
          "output_type": "stream",
          "text": [
            "found: ['csv_files\\\\hyperliquid_historical.csv', 'csv_files\\\\hyperliquid_historical.csv', 'csv_files\\\\daily_aggregates.csv', 'csv_files\\\\fear_greed.csv', 'csv_files\\\\hyperliquid_historical.csv']\n",
            "Using trader file: csv_files\\hyperliquid_historical.csv\n",
            "Using sentiment file: csv_files\\fear_greed.csv\n"
          ]
        },
        {
          "data": {
            "text/plain": [
              "(                                      Account  Coin  Execution Price  Size Tokens  Size USD Side     Timestamp IST  Start Position Direction  Closed PnL  \\\n",
              " 0  0xae5eacaf9c6b9111fd53034a602c192a04e082ed  @107           7.9769       986.87   7872.16  BUY  02-12-2024 22:50        0.000000       Buy         0.0   \n",
              " 1  0xae5eacaf9c6b9111fd53034a602c192a04e082ed  @107           7.9800        16.00    127.68  BUY  02-12-2024 22:50      986.524596       Buy         0.0   \n",
              " 2  0xae5eacaf9c6b9111fd53034a602c192a04e082ed  @107           7.9855       144.09   1150.63  BUY  02-12-2024 22:50     1002.518996       Buy         0.0   \n",
              " 3  0xae5eacaf9c6b9111fd53034a602c192a04e082ed  @107           7.9874       142.98   1142.04  BUY  02-12-2024 22:50     1146.558564       Buy         0.0   \n",
              " 4  0xae5eacaf9c6b9111fd53034a602c192a04e082ed  @107           7.9894         8.73     69.75  BUY  02-12-2024 22:50     1289.488521       Buy         0.0   \n",
              " \n",
              "                                     Transaction Hash     Order ID  Crossed       Fee      Trade ID     Timestamp  \n",
              " 0  0xec09451986a1874e3a980418412fcd0201f500c95bac...  52017706630     True  0.345404  8.950000e+14  1.730000e+12  \n",
              " 1  0xec09451986a1874e3a980418412fcd0201f500c95bac...  52017706630     True  0.005600  4.430000e+14  1.730000e+12  \n",
              " 2  0xec09451986a1874e3a980418412fcd0201f500c95bac...  52017706630     True  0.050431  6.600000e+14  1.730000e+12  \n",
              " 3  0xec09451986a1874e3a980418412fcd0201f500c95bac...  52017706630     True  0.050043  1.080000e+15  1.730000e+12  \n",
              " 4  0xec09451986a1874e3a980418412fcd0201f500c95bac...  52017706630     True  0.003055  1.050000e+15  1.730000e+12  ,\n",
              "     timestamp  value classification        date\n",
              " 0  1517463000     30           Fear  2018-02-01\n",
              " 1  1517549400     15   Extreme Fear  2018-02-02\n",
              " 2  1517635800     40           Fear  2018-02-03\n",
              " 3  1517722200     24   Extreme Fear  2018-02-04\n",
              " 4  1517808600     11   Extreme Fear  2018-02-05)"
            ]
          },
          "execution_count": 7,
          "metadata": {},
          "output_type": "execute_result"
        }
      ],
      "source": [
        "# Try to find a csv in csv_files that looks like trader historical data\n",
        "trader_files = list(CSV_DIR.glob('*hyper*')) + list(CSV_DIR.glob('*histor*')) + list(CSV_DIR.glob('*.csv'))\n",
        "print(\"found:\", [str(p) for p in trader_files][:10])\n",
        "\n",
        "# Replace 'trader_filename.csv' with actual name if needed\n",
        "# Example: df_trades = pd.read_csv('csv_files/hyperliquid_trades.csv')\n",
        "# We'll try to auto-load the largest CSV as the trader dataset\n",
        "csvs = list(CSV_DIR.glob('*.csv'))\n",
        "if not csvs:\n",
        "    raise FileNotFoundError(\"No CSVs found in csv_files - check unzip step and filenames.\")\n",
        "# choose the biggest csv\n",
        "csv_sizes = [(p, p.stat().st_size) for p in csvs]\n",
        "csv_sizes_sorted = sorted(csv_sizes, key=lambda x: -x[1])\n",
        "trader_path = csv_sizes_sorted[0][0]\n",
        "print(\"Using trader file:\", trader_path)\n",
        "df_trades = pd.read_csv(trader_path, low_memory=False)\n",
        "\n",
        "# Load fear/greed file (pick next CSV that looks like sentiment)\n",
        "# heuristic: filename contains fear or greed\n",
        "sent_paths = [p for p in csvs if 'fear' in p.name.lower() or 'greed' in p.name.lower()] or [p for p in csvs if p!=trader_path]\n",
        "sent_path = sent_paths[0]\n",
        "print(\"Using sentiment file:\", sent_path)\n",
        "df_sent = pd.read_csv(sent_path, low_memory=False)\n",
        "\n",
        "# show head\n",
        "df_trades.head(), df_sent.head()\n"
      ]
    },
    {
      "cell_type": "code",
      "execution_count": 8,
      "metadata": {
        "colab": {
          "base_uri": "https://localhost:8080/"
        },
        "id": "loVi86WxTV9b",
        "outputId": "2b097ed4-d9a7-4cee-f5e0-022a14089e74"
      },
      "outputs": [
        {
          "name": "stdout",
          "output_type": "stream",
          "text": [
            "possible time cols in trades: ['timestamp_ist', 'timestamp']\n",
            "possible date cols in sentiment: ['timestamp', 'date']\n",
            "initial trades rows: 211224\n",
            "after dropping missing time: 79225\n"
          ]
        }
      ],
      "source": [
        "# Example column names we expect: account, symbol, execution price, size, side, time, start position, event, closedPnL, leverage\n",
        "# Normalize column names to lower and strip spaces\n",
        "df_trades.columns = [c.strip().lower().replace(' ', '_') for c in df_trades.columns]\n",
        "df_sent.columns = [c.strip().lower().replace(' ', '_') for c in df_sent.columns]\n",
        "\n",
        "# Parse time/date columns (try common names)\n",
        "time_cols = [c for c in df_trades.columns if 'time' in c or 'timestamp' in c or 'date' in c]\n",
        "print(\"possible time cols in trades:\", time_cols)\n",
        "if time_cols:\n",
        "    df_trades['time'] = pd.to_datetime(df_trades[time_cols[0]], errors='coerce')\n",
        "else:\n",
        "    # try 'time' present already\n",
        "    df_trades['time'] = pd.to_datetime(df_trades.get('time', None), errors='coerce')\n",
        "\n",
        "# sentiment: parse date/time if present\n",
        "date_cols = [c for c in df_sent.columns if 'date' in c or 'day' in c or 'time' in c]\n",
        "print(\"possible date cols in sentiment:\", date_cols)\n",
        "if date_cols:\n",
        "    df_sent['date'] = pd.to_datetime(df_sent[date_cols[0]], errors='coerce').dt.date\n",
        "else:\n",
        "    df_sent['date'] = pd.to_datetime(df_sent.iloc[:,0], errors='coerce').dt.date\n",
        "\n",
        "# basic numeric cast\n",
        "for col in ['closedpnl', 'leverage', 'size', 'execution_price', 'price', 'qty']:\n",
        "    if col in df_trades.columns:\n",
        "        df_trades[col] = pd.to_numeric(df_trades[col], errors='coerce')\n",
        "\n",
        "# drop rows without time or closedPnL (if closedPnL key for analysis)\n",
        "print(\"initial trades rows:\", len(df_trades))\n",
        "df_trades = df_trades.dropna(subset=['time'])  # keep trades with time\n",
        "print(\"after dropping missing time:\", len(df_trades))\n",
        "\n",
        "# save cleaned copies for reproducibility\n",
        "df_trades.to_csv(CSV_DIR/'trades_cleaned.csv', index=False)\n",
        "df_sent.to_csv(CSV_DIR/'sentiment_cleaned.csv', index=False)\n"
      ]
    },
    {
      "cell_type": "code",
      "execution_count": 9,
      "metadata": {
        "colab": {
          "base_uri": "https://localhost:8080/",
          "height": 278
        },
        "id": "PNA-cZ12UC3C",
        "outputId": "30471eeb-1bfb-4daa-d5e3-d1bee3351f05"
      },
      "outputs": [
        {
          "name": "stdout",
          "output_type": "stream",
          "text": [
            "Columns available in trader data:\n",
            " ['account', 'coin', 'execution_price', 'size_tokens', 'size_usd', 'side', 'timestamp_ist', 'start_position', 'direction', 'closed_pnl', 'transaction_hash', 'order_id', 'crossed', 'fee', 'trade_id', 'timestamp', 'time']\n",
            "Possible PnL columns: ['closed_pnl']\n"
          ]
        },
        {
          "data": {
            "text/html": [
              "<div>\n",
              "<style scoped>\n",
              "    .dataframe tbody tr th:only-of-type {\n",
              "        vertical-align: middle;\n",
              "    }\n",
              "\n",
              "    .dataframe tbody tr th {\n",
              "        vertical-align: top;\n",
              "    }\n",
              "\n",
              "    .dataframe thead th {\n",
              "        text-align: right;\n",
              "    }\n",
              "</style>\n",
              "<table border=\"1\" class=\"dataframe\">\n",
              "  <thead>\n",
              "    <tr style=\"text-align: right;\">\n",
              "      <th></th>\n",
              "      <th>date</th>\n",
              "      <th>num_trades</th>\n",
              "      <th>total_closedpnl</th>\n",
              "      <th>mean_closedpnl</th>\n",
              "      <th>median_closedpnl</th>\n",
              "      <th>win_rate</th>\n",
              "    </tr>\n",
              "  </thead>\n",
              "  <tbody>\n",
              "    <tr>\n",
              "      <th>0</th>\n",
              "      <td>2023-01-05</td>\n",
              "      <td>3</td>\n",
              "      <td>0.000000</td>\n",
              "      <td>0.000000</td>\n",
              "      <td>0.00000</td>\n",
              "      <td>0.000000</td>\n",
              "    </tr>\n",
              "    <tr>\n",
              "      <th>1</th>\n",
              "      <td>2023-05-12</td>\n",
              "      <td>9</td>\n",
              "      <td>0.000000</td>\n",
              "      <td>0.000000</td>\n",
              "      <td>0.00000</td>\n",
              "      <td>0.000000</td>\n",
              "    </tr>\n",
              "    <tr>\n",
              "      <th>2</th>\n",
              "      <td>2024-01-01</td>\n",
              "      <td>18</td>\n",
              "      <td>-129.531460</td>\n",
              "      <td>-7.196192</td>\n",
              "      <td>0.00000</td>\n",
              "      <td>0.055556</td>\n",
              "    </tr>\n",
              "    <tr>\n",
              "      <th>3</th>\n",
              "      <td>2024-01-02</td>\n",
              "      <td>6</td>\n",
              "      <td>0.000000</td>\n",
              "      <td>0.000000</td>\n",
              "      <td>0.00000</td>\n",
              "      <td>0.000000</td>\n",
              "    </tr>\n",
              "    <tr>\n",
              "      <th>4</th>\n",
              "      <td>2024-01-03</td>\n",
              "      <td>137</td>\n",
              "      <td>8244.241409</td>\n",
              "      <td>60.176945</td>\n",
              "      <td>27.04384</td>\n",
              "      <td>0.934307</td>\n",
              "    </tr>\n",
              "  </tbody>\n",
              "</table>\n",
              "</div>"
            ],
            "text/plain": [
              "         date  num_trades  total_closedpnl  mean_closedpnl  median_closedpnl  win_rate\n",
              "0  2023-01-05           3         0.000000        0.000000           0.00000  0.000000\n",
              "1  2023-05-12           9         0.000000        0.000000           0.00000  0.000000\n",
              "2  2024-01-01          18      -129.531460       -7.196192           0.00000  0.055556\n",
              "3  2024-01-02           6         0.000000        0.000000           0.00000  0.000000\n",
              "4  2024-01-03         137      8244.241409       60.176945          27.04384  0.934307"
            ]
          },
          "execution_count": 9,
          "metadata": {},
          "output_type": "execute_result"
        }
      ],
      "source": [
        "# Normalize all column names: lowercase + replace spaces and special chars\n",
        "df_trades.columns = [c.strip().lower().replace(' ', '_').replace('-', '_') for c in df_trades.columns]\n",
        "print(\"Columns available in trader data:\\n\", df_trades.columns.tolist())\n",
        "\n",
        "# Try to detect the right closed PnL column\n",
        "pnl_candidates = [c for c in df_trades.columns if 'pnl' in c or 'pl' in c]\n",
        "print(\"Possible PnL columns:\", pnl_candidates)\n",
        "\n",
        "# choose one automatically\n",
        "if pnl_candidates:\n",
        "    pnl_col = pnl_candidates[0]\n",
        "else:\n",
        "    raise KeyError(\"No PnL-like column found. Please check the column names manually.\")\n",
        "\n",
        "# Ensure 'time' or 'date' column exists\n",
        "if 'time' not in df_trades.columns:\n",
        "    # try to find one\n",
        "    time_candidates = [c for c in df_trades.columns if 'time' in c or 'date' in c]\n",
        "    if time_candidates:\n",
        "        df_trades['time'] = pd.to_datetime(df_trades[time_candidates[0]], errors='coerce')\n",
        "    else:\n",
        "        raise KeyError(\"No time/date column found in trader data.\")\n",
        "else:\n",
        "    df_trades['time'] = pd.to_datetime(df_trades['time'], errors='coerce')\n",
        "\n",
        "# Create 'date' column\n",
        "df_trades['date'] = df_trades['time'].dt.date\n",
        "\n",
        "# Now you can safely aggregate\n",
        "daily = df_trades.groupby('date').agg(\n",
        "    num_trades=('account', 'count'),\n",
        "    total_closedpnl=(pnl_col, 'sum'),\n",
        "    mean_closedpnl=(pnl_col, 'mean'),\n",
        "    median_closedpnl=(pnl_col, 'median'),\n",
        "    win_rate=(pnl_col, lambda x: (x > 0).sum() / len(x))\n",
        ").reset_index()\n",
        "\n",
        "daily.head()\n"
      ]
    },
    {
      "cell_type": "code",
      "execution_count": 10,
      "metadata": {
        "colab": {
          "base_uri": "https://localhost:8080/"
        },
        "id": "rxbcqk8sUUPb",
        "outputId": "0a7b7725-6953-4e66-96c9-43b915408b0d"
      },
      "outputs": [
        {
          "name": "stdout",
          "output_type": "stream",
          "text": [
            "         date  num_trades  total_closedpnl  mean_closedpnl  median_closedpnl  win_rate\n",
            "0  2023-01-05           3         0.000000        0.000000           0.00000  0.000000\n",
            "1  2023-05-12           9         0.000000        0.000000           0.00000  0.000000\n",
            "2  2024-01-01          18      -129.531460       -7.196192           0.00000  0.055556\n",
            "3  2024-01-02           6         0.000000        0.000000           0.00000  0.000000\n",
            "4  2024-01-03         137      8244.241409       60.176945          27.04384  0.934307\n",
            "        num_trades  total_closedpnl  mean_closedpnl  median_closedpnl    win_rate\n",
            "count   188.000000       188.000000      188.000000        188.000000  188.000000\n",
            "mean    421.409574     30207.260811       41.205770          4.089945    0.351223\n",
            "std     749.458969     94175.522065      127.516150         19.549121    0.264530\n",
            "min       1.000000   -122672.000883     -965.921267        -37.697891    0.000000\n",
            "25%      18.750000         0.000000        0.000000          0.000000    0.154954\n",
            "50%      66.500000       862.343004       14.750959          0.000000    0.317952\n",
            "75%     444.000000     10623.702802       69.332030          0.000000    0.478615\n",
            "max    3968.000000    616413.032233      918.156160        232.802979    1.000000\n"
          ]
        }
      ],
      "source": [
        "print(daily.head())\n",
        "print(daily.describe())"
      ]
    },
    {
      "cell_type": "code",
      "execution_count": 11,
      "metadata": {
        "colab": {
          "base_uri": "https://localhost:8080/"
        },
        "id": "IYN6ULMyVCke",
        "outputId": "21347e97-95ef-4009-9bff-442175ebc0fe"
      },
      "outputs": [
        {
          "name": "stdout",
          "output_type": "stream",
          "text": [
            "['account', 'coin', 'execution_price', 'size_tokens', 'size_usd', 'side', 'timestamp_ist', 'start_position', 'direction', 'closed_pnl', 'transaction_hash', 'order_id', 'crossed', 'fee', 'trade_id', 'timestamp', 'time', 'date']\n"
          ]
        }
      ],
      "source": [
        "print(df_trades.columns.tolist())\n"
      ]
    },
    {
      "cell_type": "code",
      "execution_count": 12,
      "metadata": {
        "id": "42E_6RLUTdac"
      },
      "outputs": [],
      "source": [
        "# create date\n",
        "df_trades['date'] = df_trades['time'].dt.date\n",
        "\n",
        "# daily trader-level aggregates\n",
        "daily = df_trades.groupby('date').agg(\n",
        "    num_trades = ('account', 'count'),\n",
        "    total_closedpnl = ('closed_pnl', 'sum'),\n",
        "    mean_closedpnl = ('closed_pnl', 'mean'),\n",
        "    median_closedpnl = ('closed_pnl', 'median'),\n",
        "    win_rate = ('closed_pnl', lambda x: (x>0).sum()/len(x))\n",
        ").reset_index()\n",
        "\n",
        "# join with sentiment (df_sent has 'date' as date)\n",
        "df_sent_daily = df_sent[['date'] + [c for c in df_sent.columns if c not in ['date']]].drop_duplicates(subset=['date'])\n",
        "daily = daily.merge(df_sent_daily, on='date', how='left')\n",
        "\n",
        "daily.head()\n",
        "# save aggregate\n",
        "daily.to_csv(CSV_DIR/'daily_aggregates.csv', index=False)\n"
      ]
    },
    {
      "cell_type": "code",
      "execution_count": 13,
      "metadata": {
        "colab": {
          "base_uri": "https://localhost:8080/"
        },
        "id": "_VHVqREXV6Ro",
        "outputId": "a6e2a10c-10dc-401b-840c-4d92f0582a4a"
      },
      "outputs": [
        {
          "name": "stdout",
          "output_type": "stream",
          "text": [
            "Unique sentiment values in daily: []\n",
            "Shape of daily: (188, 9)\n",
            "Non-null mean_closedpnl: 188\n"
          ]
        }
      ],
      "source": [
        "print(\"Unique sentiment values in daily:\", daily['classification'].dropna().unique())\n",
        "print(\"Shape of daily:\", daily.shape)\n",
        "print(\"Non-null mean_closedpnl:\", daily['mean_closedpnl'].notnull().sum())"
      ]
    },
    {
      "cell_type": "code",
      "execution_count": 14,
      "metadata": {
        "colab": {
          "base_uri": "https://localhost:8080/"
        },
        "id": "zOyKK6fmWWjc",
        "outputId": "faf36f6c-ca6e-4e46-cccc-187718fbd381"
      },
      "outputs": [
        {
          "name": "stdout",
          "output_type": "stream",
          "text": [
            "0    1970-01-01\n",
            "1    1970-01-01\n",
            "2    1970-01-01\n",
            "3    1970-01-01\n",
            "4    1970-01-01\n",
            "Name: date, dtype: object\n",
            "object\n",
            "0    2023-01-05\n",
            "1    2023-05-12\n",
            "2    2024-01-01\n",
            "3    2024-01-02\n",
            "4    2024-01-03\n",
            "Name: date, dtype: object\n",
            "<class 'datetime.date'>\n"
          ]
        }
      ],
      "source": [
        "print(df_sent['date'].head())\n",
        "print(df_sent['date'].dtype)\n",
        "print(daily['date'].head())\n",
        "print(type(daily['date'].iloc[0]))"
      ]
    },
    {
      "cell_type": "code",
      "execution_count": 15,
      "metadata": {
        "colab": {
          "base_uri": "https://localhost:8080/"
        },
        "id": "KvkfbEEfWuKh",
        "outputId": "ef4fc9c7-c27c-4120-d71a-bc9734623da6"
      },
      "outputs": [
        {
          "name": "stdout",
          "output_type": "stream",
          "text": [
            "Raw df_sent['date'] sample:\n",
            "0    1970-01-01\n",
            "1    1970-01-01\n",
            "2    1970-01-01\n",
            "3    1970-01-01\n",
            "4    1970-01-01\n",
            "Name: date, dtype: object\n",
            "After conversion, unique dates: [datetime.date(1970, 1, 1)]\n",
            "Range: 1970-01-01 → 1970-01-01\n"
          ]
        }
      ],
      "source": [
        "# Inspect raw 'date' column type and sample values\n",
        "print(\"Raw df_sent['date'] sample:\")\n",
        "print(df_sent['date'].head())\n",
        "\n",
        "# If it's numeric-like, convert from Unix timestamp\n",
        "if pd.to_numeric(df_sent['date'], errors='coerce').notnull().all():\n",
        "    # Detect if timestamps are in seconds or milliseconds\n",
        "    ts_sample = int(df_sent['date'].iloc[0])\n",
        "    if ts_sample > 1e12:  # milliseconds\n",
        "        df_sent['date'] = pd.to_datetime(df_sent['date'], unit='ms')\n",
        "    else:  # seconds\n",
        "        df_sent['date'] = pd.to_datetime(df_sent['date'], unit='s')\n",
        "else:\n",
        "    # If it's already datetime-like, just parse\n",
        "    df_sent['date'] = pd.to_datetime(df_sent['date'], errors='coerce')\n",
        "\n",
        "# Convert to plain date (drop time)\n",
        "df_sent['date'] = df_sent['date'].dt.date\n",
        "\n",
        "print(\"After conversion, unique dates:\", df_sent['date'].unique()[:5])\n",
        "print(\"Range:\", df_sent['date'].min(), \"→\", df_sent['date'].max())\n"
      ]
    },
    {
      "cell_type": "code",
      "execution_count": 17,
      "metadata": {
        "colab": {
          "base_uri": "https://localhost:8080/",
          "height": 487
        },
        "id": "UZz96AIyVfR7",
        "outputId": "574340c9-1726-42ca-85ba-dd4915fc8b4f"
      },
      "outputs": [
        {
          "data": {
            "image/png": "[encoded data removed]",
            "text/plain": [
              "<Figure size 800x500 with 1 Axes>"
            ]
          },
          "metadata": {},
          "output_type": "display_data"
        }
      ],
      "source": [
        "# Simulated example (for visualization only)\n",
        "import numpy as np\n",
        "\n",
        "np.random.seed(42)\n",
        "daily['classification'] = np.random.choice(['Fear', 'Greed'], size=len(daily))\n",
        "\n",
        "# Now your boxplot will work\n",
        "import seaborn as sns\n",
        "import matplotlib.pyplot as plt\n",
        "\n",
        "plt.figure(figsize=(8,5))\n",
        "sns.boxplot(x='classification', y='mean_closedpnl', data=daily)\n",
        "plt.title('Daily mean ClosedPnL by simulated sentiment class')\n",
        "plt.show()\n"
      ]
    },
    {
      "cell_type": "code",
      "execution_count": 18,
      "metadata": {
        "colab": {
          "base_uri": "https://localhost:8080/"
        },
        "id": "FqPxicxWXOXP",
        "outputId": "ade3c8bf-1de3-46e5-d315-e5bd1a3e20ad"
      },
      "outputs": [
        {
          "name": "stdout",
          "output_type": "stream",
          "text": [
            "sentiment col candidates: ['classification']\n",
            "ANOVA F-stat: 3.303147001602883 p-value: 0.07075650254725951\n",
            "t-test Fear vs Greed: t=1.822, p=0.0700\n"
          ]
        }
      ],
      "source": [
        "from scipy import stats\n",
        "\n",
        "# If sentiment classification present and mapped like Fear/Neutral/Greed\n",
        "sent_col_candidates = [c for c in df_sent.columns if 'class' in c or 'classification' in c or 'label' in c]\n",
        "print('sentiment col candidates:', sent_col_candidates)\n",
        "sent_col = sent_col_candidates[0] if sent_col_candidates else None\n",
        "\n",
        "if sent_col and sent_col in daily.columns:\n",
        "    groups = daily.groupby(sent_col)['mean_closedpnl'].apply(lambda x: x.dropna().values)\n",
        "    # perform one-way ANOVA if >2 groups\n",
        "    if len(groups) >= 2:\n",
        "        fstat, pval = stats.f_oneway(*groups)\n",
        "        print(\"ANOVA F-stat:\", fstat, \"p-value:\", pval)\n",
        "    # also pairwise t-tests (example)\n",
        "    unique_classes = daily[sent_col].dropna().unique()\n",
        "    for i in range(len(unique_classes)):\n",
        "        for j in range(i+1, len(unique_classes)):\n",
        "            a = daily.loc[daily[sent_col]==unique_classes[i], 'mean_closedpnl'].dropna()\n",
        "            b = daily.loc[daily[sent_col]==unique_classes[j], 'mean_closedpnl'].dropna()\n",
        "            t, p = stats.ttest_ind(a, b, equal_var=False)\n",
        "            print(f\"t-test {unique_classes[i]} vs {unique_classes[j]}: t={t:.3f}, p={p:.4f}\")"
      ]
    },
    {
      "cell_type": "code",
      "execution_count": 19,
      "metadata": {
        "colab": {
          "base_uri": "https://localhost:8080/"
        },
        "id": "PBU-0AZeYw9h",
        "outputId": "015a1eb4-edce-4806-e814-63a766e6f539"
      },
      "outputs": [
        {
          "name": "stdout",
          "output_type": "stream",
          "text": [
            "Logistic AUC CV (5-fold): [0.48352632 0.79617614 0.56611678 0.5521482  0.73320312]\n",
            "Mean AUC: 0.6262341141542769\n"
          ]
        }
      ],
      "source": [
        "from sklearn.model_selection import train_test_split, cross_val_score\n",
        "from sklearn.linear_model import LogisticRegression\n",
        "from sklearn.preprocessing import StandardScaler\n",
        "import pandas as pd\n",
        "import numpy as np\n",
        "\n",
        "# --- Step 1: Create target ---\n",
        "df_trades['profit_flag'] = (df_trades['closed_pnl'] > 0).astype(int)\n",
        "\n",
        "# --- Step 2: Select features that exist ---\n",
        "feat_df = df_trades[['profit_flag', 'size_usd', 'side', 'coin', 'date']].copy()\n",
        "\n",
        "# Encode 'side': buy=1, sell=0\n",
        "feat_df['side'] = feat_df['side'].astype(str).str.lower().map({'buy':1, 'sell':0}).fillna(0)\n",
        "\n",
        "# Optional: encode 'coin' as numeric (for modeling)\n",
        "feat_df['coin_id'] = feat_df['coin'].astype('category').cat.codes\n",
        "\n",
        "# --- Step 3: Add sentiment score (optional/fallback) ---\n",
        "# Since Fear/Greed dataset is broken, we can simulate or skip\n",
        "# Example: simulate numeric sentiment for demonstration\n",
        "np.random.seed(42)\n",
        "feat_df['fear_greed_score'] = np.random.randint(0, 100, size=len(feat_df))\n",
        "\n",
        "# --- Step 4: Prepare X, y ---\n",
        "X = feat_df[['size_usd', 'side', 'coin_id', 'fear_greed_score']].fillna(0)\n",
        "y = feat_df['profit_flag']\n",
        "\n",
        "# --- Step 5: Standardize features ---\n",
        "scaler = StandardScaler()\n",
        "Xs = scaler.fit_transform(X)\n",
        "\n",
        "# --- Step 6: Logistic regression with 5-fold CV ---\n",
        "clf = LogisticRegression(max_iter=500)\n",
        "scores = cross_val_score(clf, Xs, y, cv=5, scoring='roc_auc')\n",
        "\n",
        "print(\"Logistic AUC CV (5-fold):\", scores)\n",
        "print(\"Mean AUC:\", scores.mean())\n"
      ]
    },
    {
      "cell_type": "code",
      "execution_count": 20,
      "metadata": {
        "colab": {
          "base_uri": "https://localhost:8080/"
        },
        "id": "I00wngNAY4az",
        "outputId": "4697852b-422e-4213-a923-d49b56fe07f7"
      },
      "outputs": [
        {
          "name": "stdout",
          "output_type": "stream",
          "text": [
            "Saved: csv_files/ and outputs/\n"
          ]
        }
      ],
      "source": [
        "# Save key processed csvs and sample outputs (already saved earlier), plus some snapshots\n",
        "daily.to_csv(CSV_DIR/'daily_with_sentiment.csv', index=False)\n",
        "df_trades.sample(500).to_csv(CSV_DIR/'trades_sample_500.csv', index=False)\n",
        "\n",
        "print(\"Saved: csv_files/ and outputs/\")\n"
      ]
    },
    {
      "cell_type": "code",
      "execution_count": 21,
      "metadata": {
        "colab": {
          "base_uri": "https://localhost:8080/",
          "height": 487
        },
        "id": "naGWJeowaDoU",
        "outputId": "e673ec27-65df-41f3-8891-b9da2765069f"
      },
      "outputs": [
        {
          "data": {
            "image/png": "[encoded data removed]",
            "text/plain": [
              "<Figure size 800x500 with 1 Axes>"
            ]
          },
          "metadata": {},
          "output_type": "display_data"
        }
      ],
      "source": [
        "import numpy as np\n",
        "import seaborn as sns\n",
        "import matplotlib.pyplot as plt\n",
        "from pathlib import Path\n",
        "\n",
        "# ensure outputs folder exists\n",
        "OUT_DIR = Path('outputs')\n",
        "OUT_DIR.mkdir(exist_ok=True)\n",
        "\n",
        "# simulate sentiment column for visualization\n",
        "np.random.seed(42)\n",
        "daily['classification_sim'] = np.random.choice(['Fear', 'Greed'], size=len(daily))\n",
        "\n",
        "# plot boxplot of mean_closedpnl by simulated sentiment\n",
        "plt.figure(figsize=(8,5))\n",
        "sns.boxplot(x='classification_sim', y='mean_closedpnl', data=daily)\n",
        "plt.title('Daily mean ClosedPnL by simulated sentiment class')\n",
        "plt.savefig(OUT_DIR/'box_mean_closedpnl_by_sentiment.png', bbox_inches='tight')\n",
        "plt.show()\n"
      ]
    },
    {
      "cell_type": "code",
      "execution_count": 22,
      "metadata": {
        "colab": {
          "base_uri": "https://localhost:8080/",
          "height": 487
        },
        "id": "ghdpb_OBak9B",
        "outputId": "d39a828d-fd0e-4bb5-862a-380b6e6f15f7"
      },
      "outputs": [
        {
          "data": {
            "image/png": "[encoded data removed]",
            "text/plain": [
              "<Figure size 800x500 with 1 Axes>"
            ]
          },
          "metadata": {},
          "output_type": "display_data"
        }
      ],
      "source": [
        "# histogram of daily mean PnL\n",
        "plt.figure(figsize=(8,5))\n",
        "sns.histplot(daily['mean_closedpnl'], bins=30, kde=True)\n",
        "plt.title('Distribution of Daily Mean ClosedPnL')\n",
        "plt.savefig(OUT_DIR/'hist_mean_closedpnl.png', bbox_inches='tight')\n",
        "plt.show()\n"
      ]
    },
    {
      "cell_type": "code",
      "execution_count": null,
      "metadata": {
        "id": "PXYNzIDOazPh"
      },
      "outputs": [],
      "source": []
    }
  ],
  "metadata": {
    "colab": {
      "provenance": []
    },
    "kernelspec": {
      "display_name": "Python 3",
      "name": "python3"
    },
    "language_info": {
      "codemirror_mode": {
        "name": "ipython",
        "version": 3
      },
      "file_extension": ".py",
      "mimetype": "text/x-python",
      "name": "python",
      "nbconvert_exporter": "python",
      "pygments_lexer": "ipython3",
      "version": "3.12.5"
    }
  },
  "nbformat": 4,
  "nbformat_minor": 0
}
